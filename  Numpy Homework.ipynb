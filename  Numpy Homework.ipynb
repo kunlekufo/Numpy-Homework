{
 "cells": [
  {
   "cell_type": "markdown",
   "metadata": {
    "id": "KdERlTpFuL5V"
   },
   "source": [
    "# Exercises"
   ]
  },
  {
   "cell_type": "markdown",
   "metadata": {
    "id": "to-gsrQyuL5Z"
   },
   "source": [
    "### #1 - Calculate the BMI (body mass index) on the two lists below using NDArrays..."
   ]
  },
  {
   "cell_type": "code",
   "execution_count": 4,
   "metadata": {
    "id": "iZlf9DzeuL5a"
   },
   "outputs": [
    {
     "name": "stdout",
     "output_type": "stream",
     "text": [
      "Height: 69 inches, Weight: 110 lbs, BMI: 16.87\n",
      "Height: 70 inches, Weight: 120 lbs, BMI: 17.88\n",
      "Height: 71 inches, Weight: 130 lbs, BMI: 18.83\n",
      "Height: 72 inches, Weight: 140 lbs, BMI: 19.71\n",
      "Height: 73 inches, Weight: 150 lbs, BMI: 20.55\n",
      "Height: 74 inches, Weight: 160 lbs, BMI: 21.33\n",
      "Height: 75 inches, Weight: 170 lbs, BMI: 22.06\n"
     ]
    }
   ],
   "source": [
    "import numpy as np\n",
    "height = np.array([69, 70, 71, 72, 73, 74, 75])\n",
    "weight = np.array([110, 120, 130, 140, 150, 160, 170])\n",
    "\n",
    "bmi = weight / (height**2) * 730\n",
    "\n",
    "for h, w, b in zip(height, weight, bmi):\n",
    "    print(f\"Height: {h} inches, Weight: {w} lbs, BMI: {b:.2f}\")\n"
   ]
  },
  {
   "cell_type": "markdown",
   "metadata": {
    "id": "RSsT8w8ouL5b"
   },
   "source": [
    "### #2 - Create a function that will take in two parameters and will create a random matrix based off of those parameters. Extra: Have additional parameters taken in that allow the user to choose the shape and data type of the matrix."
   ]
  },
  {
   "cell_type": "code",
   "execution_count": 8,
   "metadata": {
    "id": "ygFvj0aeuL5b"
   },
   "outputs": [
    {
     "name": "stdout",
     "output_type": "stream",
     "text": [
      "Square Matrix:\n",
      "[[0.88344324 0.84440308 0.61485259 0.94971405]\n",
      " [0.61071255 0.70064657 0.61754614 0.99677398]\n",
      " [0.52301142 0.16078329 0.53041981 0.51945636]]\n",
      "\n",
      "triangle Matrix:\n",
      "[[0 0 0]\n",
      " [0 0 0]\n",
      " [0 0 0]]\n"
     ]
    }
   ],
   "source": [
    "import numpy as np\n",
    "\n",
    "def create_random_matrix(rows, columns, shape=\"square\", dtype=float):\n",
    "    \n",
    "    if shape == \"square\":\n",
    "        matrix = np.random.random((rows, columns))\n",
    "    elif shape == \"triangle\":\n",
    "        size = max(rows, columns)\n",
    "        matrix = np.random.random((size, size))\n",
    "        matrix = matrix[:rows, :columns]\n",
    "   \n",
    "    return matrix.astype(dtype)\n",
    "\n",
    "rows = 3\n",
    "columns = 4\n",
    "random_matrix = create_random_matrix(rows, columns)\n",
    "print(\"Square Matrix:\")\n",
    "print(random_matrix)\n",
    "\n",
    "square_matrix = create_random_matrix(rows, rows, shape=\"square\", dtype=int)\n",
    "print(\"\\ntriangle Matrix:\")\n",
    "print(square_matrix)\n"
   ]
  },
  {
   "cell_type": "markdown",
   "metadata": {
    "id": "e5mP1UX9uL5c"
   },
   "source": [
    "### #3 - Extra: Open and load the data in the two text files that have the Boston Red Sox hitting data for the past seasons. Compare the difference in the two years by putting the data into an NDArray and running a differencial operation on it. The column to look for will be SLG.\n",
    "\n",
    "Your output should display which year (either 2017 or 2018) was a better year based on SLG"
   ]
  },
  {
   "cell_type": "code",
   "execution_count": 12,
   "metadata": {},
   "outputs": [
    {
     "name": "stdout",
     "output_type": "stream",
     "text": [
      "SLG in 2017: 0.39334782608695656\n",
      "SLG in 2018: 0.38750000000000007\n",
      "2017 was a better year based on SLG.\n"
     ]
    }
   ],
   "source": [
    "import pandas as pd\n",
    "import numpy as np\n",
    "file_2017 = 'Boston Red Sox hitting data 2017.csv'\n",
    "file_2018 = 'Boston Red Sox hitting data 2018.csv'\n",
    "\n",
    "data_2017 = pd.read_csv(file_2017)\n",
    "data_2018 = pd.read_csv(file_2018)\n",
    "\n",
    "slg_2017 = data_2017['SLG']\n",
    "slg_2018 = data_2018['SLG']\n",
    "\n",
    "slg_array_2017 = np.array(slg_2017)\n",
    "slg_array_2018 = np.array(slg_2018)\n",
    "\n",
    "mean_slg_2017 = np.mean(slg_array_2017)\n",
    "mean_slg_2018 = np.mean(slg_array_2018)\n",
    "\n",
    "print(f\"SLG in 2017: {mean_slg_2017}\")\n",
    "print(f\"SLG in 2018: {mean_slg_2018}\")\n",
    "\n",
    "if mean_slg_2018 > mean_slg_2017:\n",
    "    print(\"2018 was a better year based on SLG.\")\n",
    "elif mean_slg_2018 < mean_slg_2017:\n",
    "    print(\"2017 was a better year based on SLG.\")\n",
    "else:\n",
    "    print(\"Both years have the same SLG.\")\n",
    "\n"
   ]
  },
  {
   "cell_type": "code",
   "execution_count": null,
   "metadata": {},
   "outputs": [],
   "source": []
  },
  {
   "cell_type": "code",
   "execution_count": null,
   "metadata": {},
   "outputs": [],
   "source": []
  }
 ],
 "metadata": {
  "colab": {
   "name": "Copy of Data_Science_Day_1_Exercises-Day1- Homework.ipynb",
   "provenance": []
  },
  "kernelspec": {
   "display_name": "Python 3 (ipykernel)",
   "language": "python",
   "name": "python3"
  },
  "language_info": {
   "codemirror_mode": {
    "name": "ipython",
    "version": 3
   },
   "file_extension": ".py",
   "mimetype": "text/x-python",
   "name": "python",
   "nbconvert_exporter": "python",
   "pygments_lexer": "ipython3",
   "version": "3.11.5"
  }
 },
 "nbformat": 4,
 "nbformat_minor": 1
}
